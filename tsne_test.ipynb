{
 "cells": [
  {
   "cell_type": "code",
   "execution_count": null,
   "metadata": {},
   "outputs": [],
   "source": [
    "%matplotlib inline\n",
    "import numpy as np\n",
    "import pandas as pd\n",
    "\n",
    "import matplotlib.pyplot as plt\n",
    "from matplotlib.animation import FuncAnimation\n",
    "\n",
    "\n",
    "import h5py\n",
    "#from read_raw import load_from_file\n",
    "import maxlab_analysis as mla\n",
    "\n",
    "import time\n",
    "from scipy.signal import find_peaks\n",
    "import scipy.stats as stats\n",
    "from sklearn.decomposition import PCA, NMF\n",
    "from sklearn.preprocessing import StandardScaler, MinMaxScaler\n",
    "from sklearn.manifold import TSNE\n"
   ]
  },
  {
   "cell_type": "markdown",
   "metadata": {},
   "source": [
    "# PCA 50 dimensions"
   ]
  },
  {
   "cell_type": "code",
   "execution_count": null,
   "metadata": {},
   "outputs": [],
   "source": [
    "filestem = \"div21\"\n",
    "filename = filestem + \".data.raw.h5\""
   ]
  },
  {
   "cell_type": "code",
   "execution_count": null,
   "metadata": {},
   "outputs": [],
   "source": [
    "#mla.recording_to_npy(filename, 0, 0)\n",
    "\n",
    "X, t = mla.load_from_file(filename, 0, 0, 0.2, 10 , 2000)\n",
    "print(np.shape(X))\n",
    "print(np.shape(t))\n",
    "plt.plot(t,X[:,:]);\n",
    "plt.ylabel('Volts');\n",
    "plt.xlabel('Seconds');\n",
    "\n",
    "\n",
    "plt.show()\n",
    "\n",
    "# plt.savefig('plot.png')"
   ]
  },
  {
   "cell_type": "code",
   "execution_count": null,
   "metadata": {},
   "outputs": [],
   "source": [
    "scaler = StandardScaler()\n",
    "X_scaled = scaler.fit_transform(X)"
   ]
  },
  {
   "cell_type": "code",
   "execution_count": null,
   "metadata": {},
   "outputs": [],
   "source": [
    "n_components = 50\n",
    "\n",
    "pca = PCA(n_components)\n",
    "X_pca = pca.fit_transform(X_scaled)\n",
    "plt.scatter(np.arange(len(X_pca)), X_pca)\n",
    "\n",
    "print(pca.explained_variance_ratio_)"
   ]
  },
  {
   "cell_type": "code",
   "execution_count": null,
   "metadata": {},
   "outputs": [],
   "source": [
    "%matplotlib inline\n",
    "fig = plt.figure(figsize = (15, 5))\n",
    "\n",
    "plt.subplot(131)\n",
    "\n",
    "plt.scatter(X_pca[:, 0], X_pca[:, 1],  s = 1, c = t, alpha = 0.5)\n",
    "plt.xlabel('Principal component 1')\n",
    "plt.ylabel('Principal component 2')\n",
    "\n",
    "plt.subplot(132)\n",
    "\n",
    "plt.scatter(X_pca[:, 0], X_pca[:, 2],  s = 1, c = t, alpha = 0.5)\n",
    "plt.xlabel('Principal component 1')\n",
    "plt.ylabel('Principal component 3')\n",
    "\n",
    "plt.subplot(133)\n",
    "plt.scatter(X_pca[:, 1], X_pca[:, 2],  s = 1, c = t, alpha = 0.5)\n",
    "plt.colorbar()\n",
    "plt.xlabel('Principal component 2')\n",
    "plt.ylabel('Principal component 3')\n",
    "plt.tight_layout()\n",
    "plt.show()"
   ]
  },
  {
   "cell_type": "code",
   "execution_count": null,
   "metadata": {},
   "outputs": [],
   "source": [
    "tsne = TSNE()\n",
    "X_tsne = tsne.fit_transform(X_pca)"
   ]
  },
  {
   "cell_type": "code",
   "execution_count": null,
   "metadata": {},
   "outputs": [],
   "source": [
    "plt.scatter(X_tsne[:, 0], X_tsne[:, 1])"
   ]
  }
 ],
 "metadata": {
  "language_info": {
   "name": "python"
  },
  "orig_nbformat": 4
 },
 "nbformat": 4,
 "nbformat_minor": 2
}
