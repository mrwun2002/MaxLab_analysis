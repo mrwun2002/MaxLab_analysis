{
 "cells": [
  {
   "cell_type": "code",
   "execution_count": null,
   "metadata": {},
   "outputs": [],
   "source": [
    "%matplotlib inline\n",
    "import numpy as np\n",
    "import pandas as pd\n",
    "\n",
    "import matplotlib.pyplot as plt\n",
    "from matplotlib.animation import FuncAnimation\n",
    "\n",
    "\n",
    "import h5py\n",
    "#from read_raw import load_from_file\n",
    "import maxlab_analysis as mla\n",
    "\n",
    "import time\n",
    "from scipy.signal import find_peaks\n",
    "import scipy.stats as stats\n",
    "from sklearn.decomposition import PCA, NMF\n",
    "from sklearn.preprocessing import StandardScaler, MinMaxScaler\n"
   ]
  },
  {
   "cell_type": "code",
   "execution_count": null,
   "metadata": {},
   "outputs": [],
   "source": [
    "filename = \"batch2_20439div15.data.raw.h5\"\n"
   ]
  },
  {
   "cell_type": "code",
   "execution_count": null,
   "metadata": {},
   "outputs": [],
   "source": [
    "#mla.recording_to_npy(filename, 0, 0)\n",
    "\n",
    "X, t = mla.load_from_file(filename, 0, 0, 0.2, 10 , 2000)\n",
    "print(np.shape(X))\n",
    "print(np.shape(t))\n",
    "plt.plot(t,X[:,:]);\n",
    "plt.ylabel('Volts');\n",
    "plt.xlabel('Seconds');\n",
    "\n",
    "\n",
    "plt.show()\n",
    "\n",
    "# plt.savefig('plot.png')"
   ]
  },
  {
   "cell_type": "markdown",
   "metadata": {},
   "source": [
    "# Burst detection"
   ]
  },
  {
   "cell_type": "code",
   "execution_count": null,
   "metadata": {},
   "outputs": [],
   "source": [
    "Y = mla.load_spikes_from_file(filename, 0, 0, -10)\n",
    "print(np.shape(Y))\n",
    "\n",
    "plt.figure(figsize = (10, 10))\n",
    "plt.scatter(Y['time'], Y['channel'], 0.5)\n",
    "#plt.scatter(Y_synchronized['frameno'], Y_synchronized['channel'], 1, 'r')\n",
    "plt.xlabel('Time (s)')\n",
    "plt.ylabel('Channels')"
   ]
  },
  {
   "cell_type": "markdown",
   "metadata": {},
   "source": [
    "# PCA"
   ]
  },
  {
   "cell_type": "code",
   "execution_count": null,
   "metadata": {},
   "outputs": [],
   "source": [
    "scaler = StandardScaler()\n",
    "X_scaled = scaler.fit_transform(X)"
   ]
  },
  {
   "cell_type": "code",
   "execution_count": null,
   "metadata": {},
   "outputs": [],
   "source": [
    "#Plot a subset of the channels\n",
    "plt.figure(figsize = (10, 5))\n",
    "plt.subplot(121)\n",
    "plt.plot(t[:], X[:, ::10], linewidth = 0.5)\n",
    "plt.title('pre scaling')\n",
    "\n",
    "plt.subplot(122)\n",
    "plt.plot(t[:], X_scaled[:, ::10], linewidth = 0.5)\n",
    "plt.title('post scaling')\n",
    "plt.show()"
   ]
  },
  {
   "cell_type": "code",
   "execution_count": null,
   "metadata": {},
   "outputs": [],
   "source": [
    "n_components = 6\n",
    "\n",
    "pca = PCA(n_components)\n",
    "X_pca = pca.fit_transform(X_scaled)\n",
    "\n",
    "print(pca.explained_variance_ratio_)"
   ]
  },
  {
   "cell_type": "code",
   "execution_count": null,
   "metadata": {},
   "outputs": [],
   "source": [
    "%matplotlib inline\n",
    "fig = plt.figure(figsize = (15, 5))\n",
    "\n",
    "plt.subplot(131)\n",
    "\n",
    "plt.scatter(X_pca[:, 0], X_pca[:, 1],  s = 1, c = t, alpha = 0.5)\n",
    "plt.xlabel('Principal component 1')\n",
    "plt.ylabel('Principal component 2')\n",
    "\n",
    "plt.subplot(132)\n",
    "\n",
    "plt.scatter(X_pca[:, 0], X_pca[:, 2],  s = 1, c = t, alpha = 0.5)\n",
    "plt.xlabel('Principal component 1')\n",
    "plt.ylabel('Principal component 3')\n",
    "\n",
    "plt.subplot(133)\n",
    "plt.scatter(X_pca[:, 1], X_pca[:, 2],  s = 1, c = t, alpha = 0.5)\n",
    "plt.colorbar()\n",
    "plt.xlabel('Principal component 2')\n",
    "plt.ylabel('Principal component 3')\n",
    "plt.tight_layout()\n",
    "plt.show()\n",
    "\n",
    "fig_width = 3\n",
    "plt.figure(figsize = (fig_width * 5, (int(np.ceil(n_components/fig_width)) * 5)))\n",
    "for i in np.arange(1, n_components + 1):\n",
    "    plt.subplot(int(np.ceil(n_components/fig_width)), fig_width, i)\n",
    "    plt.plot(t, X_pca[:, i-1], linewidth = 0.5, alpha = 0.9)\n",
    "    plt.title('Principal component ' + str(i))\n",
    "plt.tight_layout()\n",
    "plt.show()"
   ]
  },
  {
   "cell_type": "code",
   "execution_count": null,
   "metadata": {},
   "outputs": [],
   "source": [
    "# %matplotlib notebook\n",
    "# fig = plt.figure(figsize = (10, 10))\n",
    "# ax = plt.axes(projection='3d')\n",
    "# p = ax.scatter(X_pca[:125000:30, 0], X_pca[:125000:30, 1], X_pca[:125000:30, 2], s = 1, c = t[:125000:30], alpha = 0.5)\n",
    "# ax.set_xlabel('Principal component 1')\n",
    "# ax.set_ylabel('Principal component 2')\n",
    "# ax.set_zlabel('principal component 3')\n",
    "# fig.colorbar(p)\n",
    "# plt.tight_layout()\n",
    "# fig.show()"
   ]
  },
  {
   "cell_type": "markdown",
   "metadata": {},
   "source": [
    "# NMF"
   ]
  },
  {
   "cell_type": "code",
   "execution_count": null,
   "metadata": {},
   "outputs": [],
   "source": [
    "scaler = MinMaxScaler()\n",
    "X_scaled = scaler.fit_transform(X)"
   ]
  },
  {
   "cell_type": "code",
   "execution_count": null,
   "metadata": {},
   "outputs": [],
   "source": [
    "%matplotlib inline\n",
    "\n",
    "#Plot a subset of the channels\n",
    "plt.figure(figsize = (10, 5))\n",
    "plt.subplot(121)\n",
    "plt.plot(t[:], X[:, ::10], linewidth = 0.5)\n",
    "plt.title('pre scaling')\n",
    "\n",
    "plt.subplot(122)\n",
    "plt.plot(t[:], X_scaled[:, ::10], linewidth = 0.5)\n",
    "plt.title('post scaling')\n",
    "plt.show()"
   ]
  },
  {
   "cell_type": "code",
   "execution_count": null,
   "metadata": {},
   "outputs": [],
   "source": [
    "\n",
    "n_components = 3\n",
    "\n",
    "nmf = NMF(n_components, max_iter = 800)\n",
    "X_nmf = nmf.fit_transform(X)#NOTE: does not use the scaled version. It takes a hella long time\n",
    "\n",
    "print(nmf.n_features_in_)"
   ]
  },
  {
   "cell_type": "code",
   "execution_count": null,
   "metadata": {},
   "outputs": [],
   "source": [
    "fig = plt.figure(figsize = (15, 5))\n",
    "\n",
    "plt.subplot(131)\n",
    "\n",
    "plt.scatter(X_nmf[:, 0], X_nmf[:, 1],  s = 1, c = t, alpha = 0.5)\n",
    "plt.xlabel('NMF component 1')\n",
    "plt.ylabel('NMF component 2')\n",
    "\n",
    "plt.subplot(132)\n",
    "\n",
    "plt.scatter(X_nmf[:, 0], X_nmf[:, 2],  s = 1, c = t, alpha = 0.5)\n",
    "plt.xlabel('NMF component 1')\n",
    "plt.ylabel('NMF component 3')\n",
    "\n",
    "plt.subplot(133)\n",
    "plt.scatter(X_nmf[:, 1], X_nmf[:, 2],  s = 1, c = t, alpha = 0.5)\n",
    "plt.colorbar()\n",
    "plt.xlabel('NMF component 2')\n",
    "plt.ylabel('NMF component 3')\n",
    "plt.tight_layout()\n",
    "plt.show()\n",
    "\n",
    "\n",
    "fig_width = 3\n",
    "plt.figure(figsize = (fig_width * 5, (int(np.ceil(n_components/fig_width)) * 5)))\n",
    "for i in np.arange(1, n_components + 1):\n",
    "    plt.subplot(int(np.ceil(n_components/fig_width)), fig_width, i)\n",
    "    plt.plot(t, X_nmf[:, i-1], linewidth = 0.5, alpha = 0.9)\n",
    "    plt.title('NMF component ' + str(i))\n",
    "plt.tight_layout()\n",
    "plt.show()"
   ]
  },
  {
   "cell_type": "code",
   "execution_count": null,
   "metadata": {},
   "outputs": [],
   "source": [
    "\n",
    "n_components = 3\n",
    "\n",
    "nmf = NMF(n_components, max_iter=2000) #enough to converge!\n",
    "X_nmf_scaled = nmf.fit_transform(X_scaled)\n",
    "\n",
    "print(nmf.n_features_in_)"
   ]
  },
  {
   "cell_type": "code",
   "execution_count": null,
   "metadata": {},
   "outputs": [],
   "source": [
    "fig = plt.figure(figsize = (15, 5))\n",
    "\n",
    "plt.subplot(131)\n",
    "\n",
    "plt.scatter(X_nmf_scaled[:, 0], X_nmf_scaled[:, 1],  s = 1, c = t, alpha = 0.5)\n",
    "plt.xlabel('NMF component 1')\n",
    "plt.ylabel('NMF component 2')\n",
    "\n",
    "plt.subplot(132)\n",
    "\n",
    "plt.scatter(X_nmf_scaled[:, 0], X_nmf_scaled[:, 2],  s = 1, c = t, alpha = 0.5)\n",
    "plt.xlabel('NMF component 1')\n",
    "plt.ylabel('NMF component 3')\n",
    "\n",
    "plt.subplot(133)\n",
    "plt.scatter(X_nmf_scaled[:, 1], X_nmf_scaled[:, 2],  s = 1, c = t, alpha = 0.5)\n",
    "plt.colorbar()\n",
    "plt.xlabel('NMF component 2')\n",
    "plt.ylabel('NMF component 3')\n",
    "plt.tight_layout()\n",
    "plt.show()\n",
    "\n",
    "\n",
    "fig_width = 3\n",
    "plt.figure(figsize = (fig_width * 5, (int(np.ceil(n_components/fig_width)) * 5)))\n",
    "for i in np.arange(1, n_components + 1):\n",
    "    plt.subplot(int(np.ceil(n_components/fig_width)), fig_width, i)\n",
    "    plt.plot(t, X_nmf_scaled[:, i-1], linewidth = 0.5, alpha = 0.9)\n",
    "    plt.title('NMF component ' + str(i))\n",
    "plt.tight_layout()\n",
    "plt.show()"
   ]
  }
 ],
 "metadata": {
  "language_info": {
   "name": "python"
  },
  "orig_nbformat": 4
 },
 "nbformat": 4,
 "nbformat_minor": 2
}
