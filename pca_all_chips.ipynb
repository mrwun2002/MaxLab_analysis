{
 "cells": [
  {
   "cell_type": "code",
   "execution_count": 1,
   "metadata": {},
   "outputs": [
    {
     "ename": "ImportError",
     "evalue": "cannot import name 'Assay' from partially initialized module 'assay' (most likely due to a circular import) (d:\\MaxLab_analysis\\assay.py)",
     "output_type": "error",
     "traceback": [
      "\u001b[1;31m---------------------------------------------------------------------------\u001b[0m",
      "\u001b[1;31mImportError\u001b[0m                               Traceback (most recent call last)",
      "Cell \u001b[1;32mIn[1], line 15\u001b[0m\n\u001b[0;32m     13\u001b[0m \u001b[39mfrom\u001b[39;00m \u001b[39mscipy\u001b[39;00m\u001b[39m.\u001b[39;00m\u001b[39msignal\u001b[39;00m \u001b[39mimport\u001b[39;00m find_peaks\n\u001b[0;32m     14\u001b[0m \u001b[39mimport\u001b[39;00m \u001b[39mscipy\u001b[39;00m\u001b[39m.\u001b[39;00m\u001b[39mstats\u001b[39;00m \u001b[39mas\u001b[39;00m \u001b[39mstats\u001b[39;00m\n\u001b[1;32m---> 15\u001b[0m \u001b[39mfrom\u001b[39;00m \u001b[39massay\u001b[39;00m \u001b[39mimport\u001b[39;00m Assay, NetworkAssay\n\u001b[0;32m     17\u001b[0m \u001b[39mimport\u001b[39;00m \u001b[39mpprint\u001b[39;00m\n\u001b[0;32m     18\u001b[0m \u001b[39mimport\u001b[39;00m \u001b[39mmaxlab_analysis\u001b[39;00m \u001b[39mas\u001b[39;00m \u001b[39mmla\u001b[39;00m\n",
      "File \u001b[1;32md:\\MaxLab_analysis\\assay.py:4\u001b[0m\n\u001b[0;32m      2\u001b[0m \u001b[39mfrom\u001b[39;00m \u001b[39mpathlib\u001b[39;00m \u001b[39mimport\u001b[39;00m Path\n\u001b[0;32m      3\u001b[0m \u001b[39mfrom\u001b[39;00m \u001b[39mdatetime\u001b[39;00m \u001b[39mimport\u001b[39;00m datetime\n\u001b[1;32m----> 4\u001b[0m \u001b[39mimport\u001b[39;00m \u001b[39mmaxlab_analysis\u001b[39;00m \u001b[39mas\u001b[39;00m \u001b[39mmla\u001b[39;00m\n\u001b[0;32m      5\u001b[0m \u001b[39mimport\u001b[39;00m \u001b[39mnumpy\u001b[39;00m \u001b[39mas\u001b[39;00m \u001b[39mnp\u001b[39;00m\n\u001b[0;32m      6\u001b[0m \u001b[39mimport\u001b[39;00m \u001b[39mpandas\u001b[39;00m \u001b[39mas\u001b[39;00m \u001b[39mpd\u001b[39;00m\n",
      "File \u001b[1;32md:\\MaxLab_analysis\\maxlab_analysis.py:17\u001b[0m\n\u001b[0;32m     15\u001b[0m \u001b[39mfrom\u001b[39;00m \u001b[39mscipy\u001b[39;00m\u001b[39m.\u001b[39;00m\u001b[39msignal\u001b[39;00m \u001b[39mimport\u001b[39;00m find_peaks\n\u001b[0;32m     16\u001b[0m \u001b[39mimport\u001b[39;00m \u001b[39mscipy\u001b[39;00m\u001b[39m.\u001b[39;00m\u001b[39mstats\u001b[39;00m \u001b[39mas\u001b[39;00m \u001b[39mstats\u001b[39;00m\n\u001b[1;32m---> 17\u001b[0m \u001b[39mfrom\u001b[39;00m \u001b[39massay\u001b[39;00m \u001b[39mimport\u001b[39;00m Assay, NetworkAssay\n\u001b[0;32m     19\u001b[0m \u001b[39mfrom\u001b[39;00m \u001b[39msklearn\u001b[39;00m\u001b[39m.\u001b[39;00m\u001b[39mdecomposition\u001b[39;00m \u001b[39mimport\u001b[39;00m PCA, NMF\n\u001b[0;32m     20\u001b[0m \u001b[39mfrom\u001b[39;00m \u001b[39msklearn\u001b[39;00m\u001b[39m.\u001b[39;00m\u001b[39mpreprocessing\u001b[39;00m \u001b[39mimport\u001b[39;00m StandardScaler, MinMaxScaler\n",
      "\u001b[1;31mImportError\u001b[0m: cannot import name 'Assay' from partially initialized module 'assay' (most likely due to a circular import) (d:\\MaxLab_analysis\\assay.py)"
     ]
    }
   ],
   "source": [
    "import matplotlib.pyplot as plt\n",
    "from matplotlib.animation import FuncAnimation, PillowWriter, MovieWriter\n",
    "\n",
    "\n",
    "#import tables\n",
    "import h5py\n",
    "import numpy as np\n",
    "import pandas as pd\n",
    "import time\n",
    "import math\n",
    "import sys\n",
    "\n",
    "from scipy.signal import find_peaks\n",
    "import scipy.stats as stats\n",
    "from assay import *\n",
    "\n",
    "import pprint\n",
    "import maxlab_analysis as mla"
   ]
  },
  {
   "cell_type": "code",
   "execution_count": 10,
   "metadata": {},
   "outputs": [
    {
     "ename": "NameError",
     "evalue": "name 'NetworkAssay' is not defined",
     "output_type": "error",
     "traceback": [
      "\u001b[1;31m---------------------------------------------------------------------------\u001b[0m",
      "\u001b[1;31mNameError\u001b[0m                                 Traceback (most recent call last)",
      "Cell \u001b[1;32mIn[10], line 4\u001b[0m\n\u001b[0;32m      1\u001b[0m parent_folder \u001b[39m=\u001b[39m \u001b[39m'\u001b[39m\u001b[39mD:/\u001b[39m\u001b[39m'\u001b[39m\n\u001b[0;32m      2\u001b[0m project_name \u001b[39m=\u001b[39m \u001b[39m'\u001b[39m\u001b[39mSummer_2023_Batch_2\u001b[39m\u001b[39m'\u001b[39m\n\u001b[1;32m----> 4\u001b[0m all_network_scans \u001b[39m=\u001b[39m mla\u001b[39m.\u001b[39;49mload_assays_from_project(parent_folder, project_name)\n\u001b[0;32m      5\u001b[0m \u001b[39mfor\u001b[39;00m chip_number \u001b[39min\u001b[39;00m \u001b[39mlist\u001b[39m(all_network_scans\u001b[39m.\u001b[39mkeys()):\n\u001b[0;32m      6\u001b[0m     \u001b[39mprint\u001b[39m(chip_number)\n",
      "File \u001b[1;32md:\\MaxLab_analysis\\maxlab_analysis.py:456\u001b[0m, in \u001b[0;36mload_assays_from_project\u001b[1;34m(parent_folder, project_name, chips, build_raw_npy, build_spike_array, overwrite_raw_npy, overwrite_spike_array)\u001b[0m\n\u001b[0;32m    454\u001b[0m all_assays \u001b[39m=\u001b[39m \u001b[39mdict\u001b[39m()\n\u001b[0;32m    455\u001b[0m \u001b[39mfor\u001b[39;00m chip \u001b[39min\u001b[39;00m chips:\n\u001b[1;32m--> 456\u001b[0m     all_assays[chip] \u001b[39m=\u001b[39m \u001b[39mlist\u001b[39;49m(NetworkAssay(raw_data\u001b[39m.\u001b[39;49mparent, build_raw_npy, build_spike_array, overwrite_raw_npy, overwrite_spike_array) \u001b[39mfor\u001b[39;49;00m raw_data \u001b[39min\u001b[39;49;00m search_folder\u001b[39m.\u001b[39;49mglob(\u001b[39m\"\u001b[39;49m\u001b[39m*/\u001b[39;49m\u001b[39m\"\u001b[39;49m \u001b[39m+\u001b[39;49m \u001b[39mstr\u001b[39;49m(chip) \u001b[39m+\u001b[39;49m \u001b[39m\"\u001b[39;49m\u001b[39m/Network/*/data.raw.h5\u001b[39;49m\u001b[39m\"\u001b[39;49m))\n\u001b[0;32m    458\u001b[0m \u001b[39mreturn\u001b[39;00m all_assays\n",
      "File \u001b[1;32md:\\MaxLab_analysis\\maxlab_analysis.py:456\u001b[0m, in \u001b[0;36m<genexpr>\u001b[1;34m(.0)\u001b[0m\n\u001b[0;32m    454\u001b[0m all_assays \u001b[39m=\u001b[39m \u001b[39mdict\u001b[39m()\n\u001b[0;32m    455\u001b[0m \u001b[39mfor\u001b[39;00m chip \u001b[39min\u001b[39;00m chips:\n\u001b[1;32m--> 456\u001b[0m     all_assays[chip] \u001b[39m=\u001b[39m \u001b[39mlist\u001b[39m(NetworkAssay(raw_data\u001b[39m.\u001b[39mparent, build_raw_npy, build_spike_array, overwrite_raw_npy, overwrite_spike_array) \u001b[39mfor\u001b[39;00m raw_data \u001b[39min\u001b[39;00m search_folder\u001b[39m.\u001b[39mglob(\u001b[39m\"\u001b[39m\u001b[39m*/\u001b[39m\u001b[39m\"\u001b[39m \u001b[39m+\u001b[39m \u001b[39mstr\u001b[39m(chip) \u001b[39m+\u001b[39m \u001b[39m\"\u001b[39m\u001b[39m/Network/*/data.raw.h5\u001b[39m\u001b[39m\"\u001b[39m))\n\u001b[0;32m    458\u001b[0m \u001b[39mreturn\u001b[39;00m all_assays\n",
      "\u001b[1;31mNameError\u001b[0m: name 'NetworkAssay' is not defined"
     ]
    }
   ],
   "source": [
    "parent_folder = 'D:/'\n",
    "project_name = 'Summer_2023_Batch_2'\n",
    "\n",
    "all_network_scans = mla.load_assays_from_project(parent_folder, project_name)\n",
    "for chip_number in list(all_network_scans.keys()):\n",
    "    print(chip_number)"
   ]
  }
 ],
 "metadata": {
  "kernelspec": {
   "display_name": "base",
   "language": "python",
   "name": "python3"
  },
  "language_info": {
   "codemirror_mode": {
    "name": "ipython",
    "version": 3
   },
   "file_extension": ".py",
   "mimetype": "text/x-python",
   "name": "python",
   "nbconvert_exporter": "python",
   "pygments_lexer": "ipython3",
   "version": "3.10.9"
  },
  "orig_nbformat": 4
 },
 "nbformat": 4,
 "nbformat_minor": 2
}
